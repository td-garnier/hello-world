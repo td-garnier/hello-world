{
 "cells": [
  {
   "cell_type": "markdown",
   "id": "5151c02b-446a-4409-bcf0-0b29641716f6",
   "metadata": {},
   "source": [
    "# Itération 1"
   ]
  },
  {
   "cell_type": "code",
   "execution_count": null,
   "id": "4fd8a413-b035-46b3-adbd-d61febc995ca",
   "metadata": {},
   "outputs": [],
   "source": [
    "import csv\n",
    "import matplotlib.pyplot as plt\n",
    "import operator"
   ]
  },
  {
   "cell_type": "markdown",
   "id": "c7e36741-2cdf-4cb9-a94b-5ebef2b0d7a1",
   "metadata": {},
   "source": [
    "## Exploration préliminaire du dataset “Arbres” "
   ]
  },
  {
   "cell_type": "markdown",
   "id": "92556760-79e3-4259-9854-329bc4914647",
   "metadata": {},
   "source": [
    "###\tExtraire l’ensemble des lignes (rows) et stocker ces informations dans une variable de type List:"
   ]
  },
  {
   "cell_type": "code",
   "execution_count": null,
   "id": "dd2548e3-bf59-4da2-94be-e476f3c6b3a4",
   "metadata": {},
   "outputs": [],
   "source": [
    "with open('trees.csv',newline='') as f:\n",
    "    reader= csv.reader(f)\n",
    "    data=list(reader)"
   ]
  },
  {
   "cell_type": "markdown",
   "id": "499f595b-0305-4944-919b-a41e68c2d46a",
   "metadata": {},
   "source": [
    "### Afficher les deux premières lignes de ce csv. Que représentent elles ? \n",
    "les catégories et la premiere ligne"
   ]
  },
  {
   "cell_type": "code",
   "execution_count": null,
   "id": "a70d0788-dcc8-4626-a1cd-a90db5516d64",
   "metadata": {},
   "outputs": [],
   "source": [
    "print(data[0],'\\n',data[1])"
   ]
  },
  {
   "cell_type": "markdown",
   "id": "2417a27d-198b-44c4-8617-ddb45c8599f0",
   "metadata": {},
   "source": [
    "### Afficher la 2ème colonne de chacune de ces deux lignes"
   ]
  },
  {
   "cell_type": "code",
   "execution_count": null,
   "id": "13bdbd82-51ee-4f5b-becf-baf2dd7a4627",
   "metadata": {},
   "outputs": [],
   "source": [
    "ligne1=data[0]\n",
    "ligne2=data[1]\n",
    "print(type(data))\n",
    "print(type(ligne1))\n",
    "print(ligne1[2],'\\n',ligne2[2])"
   ]
  },
  {
   "cell_type": "markdown",
   "id": "127ab257-815f-4784-82ab-f00dc8e0cba8",
   "metadata": {},
   "source": [
    "### Extraire l’information concernant l’année de plantation pour l’ensemble des lignes (rows) et stocker ces informations dans une autre variable de type List"
   ]
  },
  {
   "cell_type": "code",
   "execution_count": null,
   "id": "3239786c-53c7-4f72-b6c8-fa72e3e5016b",
   "metadata": {
    "scrolled": true
   },
   "outputs": [],
   "source": [
    "i=0\n",
    "for elem in data[0]:\n",
    "    if elem=='ANNEEDEPLANTATION':\n",
    "        numindex=i\n",
    "    i+=1\n",
    "listannee=[]\n",
    "listannee2=[]\n",
    "infomanquante=0\n",
    "for e in range (1,len(data)):\n",
    "    ligne=data[e]\n",
    "    listannee.append(ligne[numindex])\n",
    "    if ligne[numindex]=='':\n",
    "        infomanquante+=1\n",
    "    else:\n",
    "        listannee2.append(ligne[numindex])\n",
    "print(listannee2)"
   ]
  },
  {
   "cell_type": "markdown",
   "id": "9a16a73d-31a6-4fd5-b036-1416fd36c614",
   "metadata": {},
   "source": [
    "### Afficher les 50 premières lignes et les 50 dernières lignes de cette liste."
   ]
  },
  {
   "cell_type": "code",
   "execution_count": null,
   "id": "fbcd3fd7-1b19-44ad-ade1-3f13fa85d5c2",
   "metadata": {},
   "outputs": [],
   "source": [
    "print(listannee[0:50])\n",
    "print(listannee[len(listannee)-50:len(listannee)])"
   ]
  },
  {
   "cell_type": "markdown",
   "id": "f66913d0-8040-4776-94b3-c2a14d06fc50",
   "metadata": {},
   "source": [
    "### Combien d’arbres sont recensés dans ce jeu de données ?\n",
    "31243 arbres"
   ]
  },
  {
   "cell_type": "code",
   "execution_count": null,
   "id": "00df2b08-0ca6-4190-8eb0-8fdf0a59f387",
   "metadata": {},
   "outputs": [],
   "source": [
    "print(len(data)-1)"
   ]
  },
  {
   "cell_type": "markdown",
   "id": "bc9732bc-f554-4216-81c7-00ba2dc3f6c4",
   "metadata": {},
   "source": [
    "### Pour combien d’arbres manque-t-il l’information concernant la date de plantation ? \n",
    "442 arbres"
   ]
  },
  {
   "cell_type": "code",
   "execution_count": null,
   "id": "c45ded45-2b26-45f4-8e6a-05e67504b436",
   "metadata": {},
   "outputs": [],
   "source": [
    "print(listannee.count(''))\n",
    "print(infomanquante)"
   ]
  },
  {
   "cell_type": "markdown",
   "id": "3c8a5066-31f1-437c-a5d7-e07a0e27286e",
   "metadata": {},
   "source": [
    "### Combien d’arbres ont été plantés l’année de votre naissance ?\n",
    "288 en 1994"
   ]
  },
  {
   "cell_type": "code",
   "execution_count": null,
   "id": "441e719b-2789-4865-99e7-0ac09c9bef1b",
   "metadata": {},
   "outputs": [],
   "source": [
    "print(listannee.count('1994'))"
   ]
  },
  {
   "cell_type": "markdown",
   "id": "857e390e-6c56-4d37-8c72-2cfb34f7cfd6",
   "metadata": {},
   "source": [
    "### Quelle est la plus ancienne année de plantation recensée dans ce dataset ? La plus récente ?   \n",
    "1950\n",
    "2017"
   ]
  },
  {
   "cell_type": "code",
   "execution_count": null,
   "id": "d3b883cb-c76a-4ff0-8f6e-80c6fe127a93",
   "metadata": {},
   "outputs": [],
   "source": [
    "print(min(listannee2))\n",
    "print(max(listannee2))"
   ]
  },
  {
   "cell_type": "markdown",
   "id": "c9d096b0-632e-4323-aeb5-89101b9ce838",
   "metadata": {},
   "source": [
    "### Combien d’arbres ont été plantés en moyenne chaque année ?\n",
    "460"
   ]
  },
  {
   "cell_type": "code",
   "execution_count": null,
   "id": "89558ef9-342a-42bc-b378-543de32de3d6",
   "metadata": {},
   "outputs": [],
   "source": [
    "avg = len(listannee2) / (int(max(listannee2))-int(min(listannee2)))\n",
    "print(round(avg,0))"
   ]
  },
  {
   "cell_type": "markdown",
   "id": "53ed39b7-b058-42d9-b746-56b414fb2767",
   "metadata": {},
   "source": [
    "### Combien d’arbres ont été plantés année par année \n",
    "### Stocker conjointement l’année de plantation et le nombre d’arbres plantés dans un tuple. Les tuples seront stockés dans une liste"
   ]
  },
  {
   "cell_type": "code",
   "execution_count": null,
   "id": "914260aa-a4a7-45ac-8d9e-4ee97d64e07b",
   "metadata": {},
   "outputs": [],
   "source": [
    "annee_nb=(0,0)\n",
    "annee_nb_list=[]\n",
    "liste_annee=[]\n",
    "liste_nb=[]\n",
    "nb=0\n",
    "for i in range(int(min(listannee2)),int(max(listannee2))+1):\n",
    "    #print(i,':',listannee.count(str(i)))\n",
    "    annee_nb=(i,listannee2.count(str(i)))\n",
    "    annee_nb_list.append(annee_nb)\n",
    "    liste_annee.append(i)\n",
    "    liste_nb.append(listannee2.count(str(i)))\n",
    "print(annee_nb_list)"
   ]
  },
  {
   "cell_type": "markdown",
   "id": "0205a967-9bac-4b69-b4c2-629913e84add",
   "metadata": {},
   "source": [
    "### Quel Maire a planté le plus d’arbres à Grenoble ? \n",
    "Hubert Dubedout"
   ]
  },
  {
   "cell_type": "code",
   "execution_count": null,
   "id": "af9cacd2-4325-4f3f-ad1e-75c063e15d76",
   "metadata": {},
   "outputs": [],
   "source": [
    "Maire1=['1950','1959','Leon_Martin']\n",
    "Maire2=['1959','1965','Albert_Michallon']\n",
    "Maire3=['1965','1983','Hubert_Dubedout']\n",
    "Maire4=['1983','1995','Alain_Carignon']\n",
    "Maire5=['1995','2014','Michel_Destot']\n",
    "Maire6=['2014','2024','Eric_Piolle']\n",
    "\n",
    "Maire_nb=0\n",
    "Maire_max=0\n",
    "Nom_Maire_Max=''\n",
    "Maire_nb=0\n",
    "for e in range(int(Maire1[0]),int(Maire1[1])):\n",
    "    Maire_nb+=(listannee2.count(str(e)))\n",
    "Maire1.append(Maire_nb)\n",
    "if Maire_max<Maire_nb:\n",
    "    Maire_max=Maire_nb\n",
    "    Nom_Maire_Max=Maire1[2]\n",
    "Maire_nb=0\n",
    "for e in range(int(Maire2[0]),int(Maire2[1])):\n",
    "    Maire_nb+=(listannee2.count(str(e)))\n",
    "Maire2.append(Maire_nb)\n",
    "if Maire_max<Maire_nb:\n",
    "    Maire_max=Maire_nb\n",
    "    Nom_Maire_Max=Maire2[2]\n",
    "Maire_nb=0\n",
    "for e in range(int(Maire3[0]),int(Maire3[1])):\n",
    "    Maire_nb+=(listannee2.count(str(e)))\n",
    "Maire3.append(Maire_nb)\n",
    "if Maire_max<Maire_nb:\n",
    "    Maire_max=Maire_nb\n",
    "    Nom_Maire_Max=Maire3[2]\n",
    "Maire_nb=0\n",
    "for e in range(int(Maire4[0]),int(Maire4[1])):\n",
    "    Maire_nb+=(listannee2.count(str(e)))\n",
    "Maire4.append(Maire_nb)\n",
    "if Maire_max<Maire_nb:\n",
    "    Maire_max=Maire_nb\n",
    "    Nom_Maire_Max=Maire4[2]\n",
    "Maire_nb=0\n",
    "for e in range(int(Maire5[0]),int(Maire5[1])):\n",
    "    Maire_nb+=(listannee2.count(str(e)))\n",
    "Maire5.append(Maire_nb)\n",
    "if Maire_max<Maire_nb:\n",
    "    Maire_max=Maire_nb\n",
    "    Nom_Maire_Max=Maire5[2]\n",
    "Maire_nb=0\n",
    "for e in range(int(Maire6[0]),int(Maire6[1])):\n",
    "    Maire_nb+=(listannee2.count(str(e)))\n",
    "Maire6.append(Maire_nb)\n",
    "if Maire_max<Maire_nb:\n",
    "    Maire_max=Maire_nb\n",
    "    Nom_Maire_Max=Maire6[2]\n",
    "\n",
    "print (Nom_Maire_Max)\n",
    "print (Maire_max)"
   ]
  },
  {
   "cell_type": "markdown",
   "id": "53aec95e-c42c-4f3a-a8fd-6f447c742919",
   "metadata": {},
   "source": [
    "### Récupérez maintenant l’information concernant le genre botanique et la stocker conjointement avec l’année de plantation dans un tuple. Les tuples seront stockés dans une liste"
   ]
  },
  {
   "cell_type": "code",
   "execution_count": null,
   "id": "7ce1c24b-d6b1-4e69-8f30-160237db6d1b",
   "metadata": {},
   "outputs": [],
   "source": [
    "liste_genre_annee=[]\n",
    "nb_genre_manquant=0\n",
    "for ligne in data:\n",
    "    ajout=('','')\n",
    "    ajout=(ligne[13],ligne[19])\n",
    "    liste_genre_annee.append(ajout)\n",
    "    if ligne[13]=='':\n",
    "        nb_genre_manquant+=1\n"
   ]
  },
  {
   "cell_type": "markdown",
   "id": "4e99dcf9-87b0-433f-98dc-deef3b15806c",
   "metadata": {},
   "source": [
    "### Pour combien d'arbres manque-t-il l’information concernant le genre botanique ? \n",
    "515"
   ]
  },
  {
   "cell_type": "code",
   "execution_count": null,
   "id": "6ac3d5c8-c772-4e4c-a88f-92edac5801f6",
   "metadata": {},
   "outputs": [],
   "source": [
    "print(nb_genre_manquant)"
   ]
  },
  {
   "cell_type": "markdown",
   "id": "2bd97972-2e7b-4e39-b056-1218133b8d66",
   "metadata": {},
   "source": [
    "### Utilisez Matplotlib pour tracer l’histogramme représentant le nombre d’arbres plantés par année."
   ]
  },
  {
   "cell_type": "code",
   "execution_count": null,
   "id": "791d8127-851e-430c-9209-7a309b3205dd",
   "metadata": {},
   "outputs": [],
   "source": [
    "x=liste_annee\n",
    "y=liste_nb\n",
    "plt.bar(x, y)\n",
    "plt.show()"
   ]
  },
  {
   "cell_type": "markdown",
   "id": "3e8ac4b3-b42e-47ed-8585-df79a7e0e216",
   "metadata": {},
   "source": [
    "### Triez les tuples (année, genre_botanique) en fonction de l’année de plantation par ordre décroissant.\n"
   ]
  },
  {
   "cell_type": "code",
   "execution_count": null,
   "id": "f11124c6-eaa0-4bda-8373-165fcf1ac10e",
   "metadata": {},
   "outputs": [],
   "source": [
    "liste_genre_annee.sort(key=lambda x: x[1],reverse=True)\n",
    "print(liste_genre_annee)"
   ]
  },
  {
   "cell_type": "markdown",
   "id": "733da555-299d-4a92-be48-380676422aa5",
   "metadata": {},
   "source": [
    "# Itération 2"
   ]
  },
  {
   "cell_type": "markdown",
   "id": "98e37894-ce92-4b2d-8ee9-c60e8f1e217f",
   "metadata": {},
   "source": [
    "### Identifiez tous les genres botaniques représentés à Grenoble. Combien y en a-t-il ?  \n",
    "112"
   ]
  },
  {
   "cell_type": "code",
   "execution_count": null,
   "id": "2033f9f0-f245-4315-99c8-a79008a48fb3",
   "metadata": {},
   "outputs": [],
   "source": [
    "ligne=[]\n",
    "liste_genre=[]\n",
    "for e in range (1,len(data)):\n",
    "    ligne=data[e]\n",
    "    liste_genre.append(ligne[13])\n",
    "liste_genre_unique=set(liste_genre)\n",
    "liste_genre_unique.remove(\"\")\n",
    "print(liste_genre_unique)\n",
    "print(len(liste_genre_unique))"
   ]
  },
  {
   "cell_type": "markdown",
   "id": "5b7c34f2-e36d-4a94-ad52-e84fae0f24be",
   "metadata": {},
   "source": [
    "### Identifiez maintenant toutes les espèces différentes présentes à Grenoble."
   ]
  },
  {
   "cell_type": "code",
   "execution_count": null,
   "id": "7074eff0-1ff4-41a8-8be4-bf3caca83daf",
   "metadata": {
    "scrolled": true
   },
   "outputs": [],
   "source": [
    "ligne=[]\n",
    "liste_espece=[]\n",
    "for e in range (1,len(data)):\n",
    "    ligne=data[e]\n",
    "    liste_espece.append(ligne[13]+' '+ligne[14])\n",
    "liste_espece_unique=set(liste_espece)\n",
    "liste_espece_unique.remove(\" \")\n",
    "print(len(liste_espece_unique))\n",
    "print(liste_espece_unique)"
   ]
  },
  {
   "cell_type": "markdown",
   "id": "35ac6db3-8f4a-4544-b130-33497085c1c6",
   "metadata": {},
   "source": [
    "### En utilisant la structure de données Dict compter le nombre de représentants de chaque genre botanique \n",
    "### Listez tous les représentants uniques de leurs genres botaniques"
   ]
  },
  {
   "cell_type": "code",
   "execution_count": null,
   "id": "97cf75e4-2a74-4e7c-b76f-1a26c6e1faae",
   "metadata": {
    "scrolled": true
   },
   "outputs": [],
   "source": [
    "keys = list(liste_genre_unique)\n",
    "nb_genre=0\n",
    "dict_genre = {key: None for key in keys}\n",
    "for i in range(0,len(keys)):\n",
    "    nb_genre=liste_genre.count(keys[i])\n",
    "    dict_genre[keys[i]]=nb_genre\n",
    "print(dict_genre)\n",
    "print(len(dict_genre))"
   ]
  },
  {
   "cell_type": "markdown",
   "id": "4d162a71-3f6f-4970-be2b-4ea390791e0b",
   "metadata": {},
   "source": [
    "### Quel est le genre botanique le plus représenté ?\n"
   ]
  },
  {
   "cell_type": "code",
   "execution_count": null,
   "id": "ed0e4b48-e864-492e-9478-95d90d21abb5",
   "metadata": {},
   "outputs": [],
   "source": [
    "max_genre = max(dict_genre, key=dict_genre.get)\n",
    "print(max_genre)"
   ]
  },
  {
   "cell_type": "markdown",
   "id": "0d1c0506-d6cd-49f2-b86d-87f98f6a7b28",
   "metadata": {},
   "source": [
    "### Classer tous les genres botaniques en fonction de leur nombre (ordre décroissant)"
   ]
  },
  {
   "cell_type": "code",
   "execution_count": null,
   "id": "5e038b2b-dd0c-40ff-9ea2-d58b6860c416",
   "metadata": {},
   "outputs": [],
   "source": [
    "sorted_dict_genre={}\n",
    "sorted_dict_genre = dict(sorted(dict_genre.items(), key=lambda item:item[1], reverse=True))\n",
    "print(sorted_dict_genre)"
   ]
  },
  {
   "cell_type": "markdown",
   "id": "25937806-b238-4da4-b298-4a92e75d8fd4",
   "metadata": {},
   "source": [
    "### Quelle est la proportion du genre botanique le plus représenté parmi tous les genres ? \n",
    "### Quelle est la proportion de chacun des genres botaniques par rapport au total ? "
   ]
  },
  {
   "cell_type": "code",
   "execution_count": null,
   "id": "0261a430-4c8a-48d1-bc7a-d6253c67f568",
   "metadata": {},
   "outputs": [],
   "source": [
    "nb_arbre=0\n",
    "for key in sorted_dict_genre:\n",
    "    nb_arbre+=sorted_dict_genre[key]\n",
    "for key in sorted_dict_genre:\n",
    "    pourcentage=(sorted_dict_genre[key]/nb_arbre)*100\n",
    "    sorted_dict_genre[key]=round(pourcentage,2)\n",
    "print(sorted_dict_genre)\n",
    "print(nb_arbre)"
   ]
  },
  {
   "cell_type": "markdown",
   "id": "07fd896d-810b-4938-ba81-86be9178ba2e",
   "metadata": {},
   "source": [
    "### Les objectifs de la Métro sont-ils respectés en termes de diversité ?\n",
    "En termes de diversité de genre oui"
   ]
  },
  {
   "cell_type": "markdown",
   "id": "682eb233-f288-4c58-93eb-46d53f867e26",
   "metadata": {},
   "source": [
    "### Listez tous les représentants uniques des especes botaniques"
   ]
  },
  {
   "cell_type": "code",
   "execution_count": null,
   "id": "4dcc063d-71a7-4f76-80e8-293b5e294403",
   "metadata": {},
   "outputs": [],
   "source": [
    "keys = list(liste_espece_unique)\n",
    "nb_genre=0\n",
    "dict_espece = {key: None for key in keys}\n",
    "for i in range(0,len(keys)):\n",
    "    nb_espece=liste_espece.count(keys[i])\n",
    "    dict_espece[keys[i]]=nb_espece\n",
    "print(dict_espece)\n",
    "print(len(dict_espece))"
   ]
  },
  {
   "cell_type": "markdown",
   "id": "c5ca3ccd-f252-45e6-bd06-feb0c57a5348",
   "metadata": {},
   "source": [
    "### Quel est l'espece botanique le plus représenté ?"
   ]
  },
  {
   "cell_type": "code",
   "execution_count": null,
   "id": "aff3e881-0888-4a36-863b-182d478f5d31",
   "metadata": {},
   "outputs": [],
   "source": [
    "max_espece = max(dict_espece, key=dict_espece.get)\n",
    "print(max_espece)"
   ]
  },
  {
   "cell_type": "markdown",
   "id": "ab137bf5-1179-4dec-aca1-c3adcce83624",
   "metadata": {},
   "source": [
    "### Classer toutes les especes botaniques en fonction de leur nombre (ordre décroissant)"
   ]
  },
  {
   "cell_type": "code",
   "execution_count": null,
   "id": "8565c0eb-b9b3-4337-a3b4-adaa15c905fb",
   "metadata": {},
   "outputs": [],
   "source": [
    "sorted_dict_espece={}\n",
    "sorted_dict_espece = dict(sorted(dict_espece.items(), key=lambda item:item[1], reverse=True))\n",
    "print(sorted_dict_espece)"
   ]
  },
  {
   "cell_type": "markdown",
   "id": "2ddac151-6ac1-4f01-a945-4a14e480a4c5",
   "metadata": {},
   "source": [
    "### Quelle est la proportion de l'espece botanique la plus représenté parmi tous les genres ? \n",
    "### Quelle est la proportion de chacune des especes botaniques par rapport au total ? "
   ]
  },
  {
   "cell_type": "code",
   "execution_count": null,
   "id": "a0ae8c6c-3f4a-4a22-ac5d-e24d96dd3cdf",
   "metadata": {},
   "outputs": [],
   "source": [
    "nb_arbre=0\n",
    "for key in sorted_dict_espece:\n",
    "    nb_arbre+=sorted_dict_espece[key]\n",
    "for key in sorted_dict_espece:\n",
    "    pourcentage=(sorted_dict_espece[key]/nb_arbre)*100\n",
    "    sorted_dict_espece[key]=round(pourcentage,2)\n",
    "print(sorted_dict_espece)"
   ]
  },
  {
   "cell_type": "markdown",
   "id": "196bccc7-680d-4dfe-b3cc-c7c8a405aee2",
   "metadata": {},
   "source": [
    "### Comment la pratique de plantation a-t-elle évolué au cours du temps ? Diversifie-t-on plus maintenant qu’avant? \n",
    "Globvalement on diversifie plus qu'avant"
   ]
  },
  {
   "cell_type": "code",
   "execution_count": null,
   "id": "c8c2b890-a55f-4516-9cec-cac3b80fbdbd",
   "metadata": {},
   "outputs": [],
   "source": [
    "ligne=[]\n",
    "liste_annee=[]\n",
    "liste_nb_espece_unique=[]\n",
    "for i in range(1950,2018):\n",
    "    liste_espece=[]\n",
    "    for e in range (1,len(data)):\n",
    "        test=i\n",
    "        ligne=data[e]\n",
    "        if ligne[19]==str(test):\n",
    "            liste_espece.append(ligne[13]+' '+ligne[14])\n",
    "    liste_espece_unique=set(liste_espece)\n",
    "    liste_annee.append(i)\n",
    "    liste_nb_espece_unique.append(len(liste_espece_unique))\n",
    "x=liste_annee\n",
    "y=liste_nb_espece_unique\n",
    "plt.bar(x, y)\n",
    "plt.show()"
   ]
  }
 ],
 "metadata": {
  "kernelspec": {
   "display_name": "base",
   "language": "python",
   "name": "python3"
  },
  "language_info": {
   "codemirror_mode": {
    "name": "ipython",
    "version": 3
   },
   "file_extension": ".py",
   "mimetype": "text/x-python",
   "name": "python",
   "nbconvert_exporter": "python",
   "pygments_lexer": "ipython3",
   "version": "3.12.7"
  }
 },
 "nbformat": 4,
 "nbformat_minor": 5
}
